{
 "cells": [
  {
   "cell_type": "code",
   "execution_count": 3,
   "metadata": {},
   "outputs": [],
   "source": [
    ":dep rand = {version = \"0.8.5\"}\n",
    "use rand::Rng;"
   ]
  },
  {
   "cell_type": "code",
   "execution_count": 4,
   "metadata": {},
   "outputs": [],
   "source": [
    "#[derive(Debug)]\n",
    "struct Student {\n",
    "    ime: String,\n",
    "    priimek: String,\n",
    "    vpisna: u32,\n",
    "}"
   ]
  },
  {
   "cell_type": "code",
   "execution_count": 5,
   "metadata": {},
   "outputs": [
    {
     "name": "stdout",
     "output_type": "stream",
     "text": [
      "Student { ime: \"Matija\", priimek: \"Pretnar\", vpisna: 27004498 }\n"
     ]
    }
   ],
   "source": [
    "println!(\n",
    "    \"{:?}\",\n",
    "    Student {\n",
    "        ime: String::from(\"Matija\"),\n",
    "        priimek: String::from(\"Pretnar\"),\n",
    "        vpisna: 27004498,\n",
    "    }\n",
    ");\n"
   ]
  },
  {
   "cell_type": "code",
   "execution_count": 10,
   "metadata": {},
   "outputs": [],
   "source": [
    "\n",
    "fn square_fn(a: i32) -> i32 {\n",
    "    a * a\n",
    "}\n",
    "\n",
    "macro_rules! square_macro {\n",
    "    ($a:expr) => {\n",
    "        $a * $a\n",
    "    };\n",
    "}"
   ]
  },
  {
   "cell_type": "code",
   "execution_count": 12,
   "metadata": {},
   "outputs": [
    {
     "name": "stdout",
     "output_type": "stream",
     "text": [
      "Tole bo vedno kvadrat: 16\n"
     ]
    },
    {
     "name": "stdout",
     "output_type": "stream",
     "text": [
      "Tole bo redkokdaj kvadrat: 24\n"
     ]
    }
   ],
   "source": [
    "println!(\n",
    "    \"Tole bo vedno kvadrat: {}\",\n",
    "    square_fn(rand::thread_rng().gen_range(1..=10))\n",
    ");\n",
    "println!(\n",
    "    \"Tole bo redkokdaj kvadrat: {}\",\n",
    "    square_macro!(rand::thread_rng().gen_range(1..=10))\n",
    ");"
   ]
  },
  {
   "cell_type": "code",
   "execution_count": 14,
   "metadata": {},
   "outputs": [],
   "source": [
    "#[macro_export]\n",
    "macro_rules! vektor {\n",
    "    ( $( $x:expr ),* ) => {\n",
    "        {\n",
    "            let mut temp_vec = Vec::new();\n",
    "            $(\n",
    "                temp_vec.push($x);\n",
    "            )*\n",
    "            temp_vec\n",
    "        }\n",
    "    };\n",
    "}\n"
   ]
  },
  {
   "cell_type": "code",
   "execution_count": 15,
   "metadata": {},
   "outputs": [
    {
     "name": "stdout",
     "output_type": "stream",
     "text": [
      "[1, 2, 3, 4, 5, 6, 7, 8, 9, 10, 11, 12, 13] = [1, 2, 3, 4, 5, 6, 7, 8, 9, 10, 11, 12, 13]\n"
     ]
    }
   ],
   "source": [
    "let v1 = vec![1, 2, 3, 4, 5, 6, 7, 8, 9, 10, 11, 12, 13];\n",
    "let v2 = vektor![1, 2, 3, 4, 5, 6, 7, 8, 9, 10, 11, 12, 13];\n",
    "println!(\"{:?} = {:?}\", v1, v2);"
   ]
  },
  {
   "cell_type": "code",
   "execution_count": null,
   "metadata": {},
   "outputs": [],
   "source": []
  }
 ],
 "metadata": {
  "kernelspec": {
   "display_name": "Rust",
   "language": "rust",
   "name": "rust"
  },
  "language_info": {
   "codemirror_mode": "rust",
   "file_extension": ".rs",
   "mimetype": "text/rust",
   "name": "rust",
   "pygment_lexer": "rust",
   "version": ""
  }
 },
 "nbformat": 4,
 "nbformat_minor": 2
}
