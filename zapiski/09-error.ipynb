{
 "cells": [
  {
   "cell_type": "code",
   "execution_count": 8,
   "metadata": {
    "vscode": {
     "languageId": "rust"
    }
   },
   "outputs": [],
   "source": [
    "#[derive(Debug)]\n",
    "enum MorebitnoStevilo {\n",
    "    Nimam,\n",
    "    Imam(i32)\n",
    "}"
   ]
  },
  {
   "cell_type": "code",
   "execution_count": 9,
   "metadata": {
    "vscode": {
     "languageId": "rust"
    }
   },
   "outputs": [],
   "source": [
    "fn deli(x: i32, y:i32) -> MorebitnoStevilo {\n",
    "    if y == 0 {\n",
    "        MorebitnoStevilo::Nimam\n",
    "    } else {\n",
    "        MorebitnoStevilo::Imam(x / y)\n",
    "    }\n",
    "}"
   ]
  },
  {
   "cell_type": "code",
   "execution_count": 11,
   "metadata": {
    "vscode": {
     "languageId": "rust"
    }
   },
   "outputs": [
    {
     "data": {
      "text/plain": [
       "Nimam"
      ]
     },
     "execution_count": 11,
     "metadata": {},
     "output_type": "execute_result"
    }
   ],
   "source": [
    "deli(3, 0)"
   ]
  },
  {
   "cell_type": "code",
   "execution_count": 13,
   "metadata": {
    "vscode": {
     "languageId": "rust"
    }
   },
   "outputs": [],
   "source": [
    "#[derive(Debug)]\n",
    "enum Morebitno<T> {\n",
    "    Nimam,\n",
    "    Imam(T)\n",
    "}"
   ]
  },
  {
   "cell_type": "code",
   "execution_count": 14,
   "metadata": {
    "vscode": {
     "languageId": "rust"
    }
   },
   "outputs": [],
   "source": [
    "fn deli(x: i32, y:i32) -> Morebitno<i32> {\n",
    "    if y == 0 {\n",
    "        Morebitno::Nimam\n",
    "    } else {\n",
    "        Morebitno::Imam(x / y)\n",
    "    }\n",
    "}"
   ]
  },
  {
   "cell_type": "code",
   "execution_count": 22,
   "metadata": {
    "vscode": {
     "languageId": "rust"
    }
   },
   "outputs": [],
   "source": [
    "fn deli(x: i32, y:i32) -> Option<i32> {\n",
    "    if y == 0 {\n",
    "        None\n",
    "    } else {\n",
    "        Some(x / y)\n",
    "    }\n",
    "}"
   ]
  },
  {
   "cell_type": "code",
   "execution_count": 23,
   "metadata": {
    "vscode": {
     "languageId": "rust"
    }
   },
   "outputs": [
    {
     "data": {
      "text/plain": [
       "None"
      ]
     },
     "execution_count": 23,
     "metadata": {},
     "output_type": "execute_result"
    }
   ],
   "source": [
    "deli(3, 0)"
   ]
  },
  {
   "cell_type": "code",
   "execution_count": 17,
   "metadata": {
    "vscode": {
     "languageId": "rust"
    }
   },
   "outputs": [],
   "source": [
    "#[derive(Debug)]\n",
    "enum MorebitnoZRazlago<T> {\n",
    "    Nimam(String),\n",
    "    Imam(T)\n",
    "}"
   ]
  },
  {
   "cell_type": "code",
   "execution_count": 24,
   "metadata": {
    "vscode": {
     "languageId": "rust"
    }
   },
   "outputs": [],
   "source": [
    "fn deli(x: i32, y:i32) -> MorebitnoZRazlago<i32> {\n",
    "    if y == 0 {\n",
    "        MorebitnoZRazlago::Nimam(\"delil si z nič\".to_string())\n",
    "    } else {\n",
    "        MorebitnoZRazlago::Imam(x / y)\n",
    "    }\n",
    "}"
   ]
  },
  {
   "cell_type": "code",
   "execution_count": 25,
   "metadata": {
    "vscode": {
     "languageId": "rust"
    }
   },
   "outputs": [
    {
     "data": {
      "text/plain": [
       "Nimam(\"delil si z nič\")"
      ]
     },
     "execution_count": 25,
     "metadata": {},
     "output_type": "execute_result"
    }
   ],
   "source": [
    "deli(3, 0)"
   ]
  },
  {
   "cell_type": "code",
   "execution_count": null,
   "metadata": {
    "vscode": {
     "languageId": "rust"
    }
   },
   "outputs": [],
   "source": [
    "enum NapakaObPovezavi {\n",
    "    MrezaNeDela,\n",
    "    NedosegljivStreznik,\n",
    "    ZavrnjenaZahteva(HttpKoda)\n",
    "}\n",
    "enum Napaka {\n",
    "    NapacenOdziv(NapakaObPovezavi),\n",
    "    NapacenVnos(String),\n",
    "    NapakaObZapisovanju(VhodnoIzhodnaNapaka)\n",
    "}"
   ]
  },
  {
   "cell_type": "code",
   "execution_count": 27,
   "metadata": {
    "vscode": {
     "languageId": "rust"
    }
   },
   "outputs": [],
   "source": [
    "#[derive(Debug)]\n",
    "enum MorebitnoZRazlogom<T, E> {\n",
    "    Napaka(E),\n",
    "    VRedu(T)\n",
    "}"
   ]
  },
  {
   "cell_type": "code",
   "execution_count": 28,
   "metadata": {
    "vscode": {
     "languageId": "rust"
    }
   },
   "outputs": [],
   "source": [
    "fn deli(x: i32, y:i32) -> MorebitnoZRazlogom<i32, String> {\n",
    "    if y == 0 {\n",
    "        MorebitnoZRazlogom::Napaka(\"delil si z nič\".to_string())\n",
    "    } else {\n",
    "        MorebitnoZRazlogom::VRedu(x / y)\n",
    "    }\n",
    "}"
   ]
  },
  {
   "cell_type": "code",
   "execution_count": 29,
   "metadata": {
    "vscode": {
     "languageId": "rust"
    }
   },
   "outputs": [
    {
     "data": {
      "text/plain": [
       "VRedu(1)"
      ]
     },
     "execution_count": 29,
     "metadata": {},
     "output_type": "execute_result"
    }
   ],
   "source": [
    "deli(3, 2)"
   ]
  },
  {
   "cell_type": "code",
   "execution_count": 30,
   "metadata": {
    "vscode": {
     "languageId": "rust"
    }
   },
   "outputs": [
    {
     "data": {
      "text/plain": [
       "Napaka(\"delil si z nič\")"
      ]
     },
     "execution_count": 30,
     "metadata": {},
     "output_type": "execute_result"
    }
   ],
   "source": [
    "deli(3, 0)"
   ]
  },
  {
   "cell_type": "code",
   "execution_count": 3,
   "metadata": {
    "vscode": {
     "languageId": "rust"
    }
   },
   "outputs": [],
   "source": [
    "fn deli(x: i32, y:i32) -> Result<i32, String> {\n",
    "    if y == 0 {\n",
    "        Err(\"delil si z nič\".to_string())\n",
    "    } else {\n",
    "        Ok(x / y)\n",
    "    }\n",
    "}"
   ]
  },
  {
   "cell_type": "code",
   "execution_count": 4,
   "metadata": {
    "vscode": {
     "languageId": "rust"
    }
   },
   "outputs": [
    {
     "ename": "Error",
     "evalue": "cannot add `Result<i32, String>` to `Result<i32, String>`",
     "output_type": "error",
     "traceback": [
      "\u001b[31m[E0369] Error:\u001b[0m cannot add `Result<i32, String>` to `Result<i32, String>`",
      "   \u001b[38;5;246m╭\u001b[0m\u001b[38;5;246m─\u001b[0m\u001b[38;5;246m[\u001b[0mcommand_4:1:1\u001b[38;5;246m]\u001b[0m",
      "   \u001b[38;5;246m│\u001b[0m",
      " \u001b[38;5;246m4 │\u001b[0m \u001b[38;5;249m \u001b[0m\u001b[38;5;249m \u001b[0m\u001b[38;5;249m \u001b[0m\u001b[38;5;249m \u001b[0m\u001b[38;5;54ma\u001b[0m\u001b[38;5;249m \u001b[0m\u001b[38;5;68m+\u001b[0m\u001b[38;5;249m \u001b[0m\u001b[38;5;100mb\u001b[0m",
      " \u001b[38;5;240m  │\u001b[0m     \u001b[38;5;54m┬\u001b[0m \u001b[38;5;68m┬\u001b[0m \u001b[38;5;100m┬\u001b[0m  ",
      " \u001b[38;5;240m  │\u001b[0m     \u001b[38;5;54m╰\u001b[0m\u001b[38;5;54m─\u001b[0m\u001b[38;5;54m─\u001b[0m\u001b[38;5;54m─\u001b[0m\u001b[38;5;54m─\u001b[0m\u001b[38;5;54m─\u001b[0m\u001b[38;5;54m─\u001b[0m Result<i32, String>",
      " \u001b[38;5;240m  │\u001b[0m       \u001b[38;5;68m│\u001b[0m \u001b[38;5;100m│\u001b[0m  ",
      " \u001b[38;5;240m  │\u001b[0m       \u001b[38;5;68m╰\u001b[0m\u001b[38;5;68m─\u001b[0m\u001b[38;5;68m─\u001b[0m\u001b[38;5;68m─\u001b[0m\u001b[38;5;68m─\u001b[0m error: cannot add `Result<i32, String>` to `Result<i32, String>`",
      " \u001b[38;5;240m  │\u001b[0m         \u001b[38;5;100m│\u001b[0m  ",
      " \u001b[38;5;240m  │\u001b[0m         \u001b[38;5;100m╰\u001b[0m\u001b[38;5;100m─\u001b[0m\u001b[38;5;100m─\u001b[0m Result<i32, String>",
      "\u001b[38;5;246m───╯\u001b[0m"
     ]
    }
   ],
   "source": [
    "fn vsota_kvocientov(x: i32, y:i32) -> Result<i32, String> {\n",
    "    let a = deli(x, y);\n",
    "    let b = deli(y, x);\n",
    "    a + b\n",
    "}"
   ]
  },
  {
   "cell_type": "code",
   "execution_count": 6,
   "metadata": {
    "vscode": {
     "languageId": "rust"
    }
   },
   "outputs": [],
   "source": [
    "fn vsota_kvocientov(x: i32, y:i32) -> Result<i32, String> {\n",
    "    let a = deli(x, y);\n",
    "    let b = deli(y, x);\n",
    "    match (a, b) {\n",
    "        (Ok(a), Ok(b)) => Ok(a + b),\n",
    "        _ => Err(\"Prišlo je do napake\".to_string())\n",
    "    }\n",
    "}"
   ]
  },
  {
   "cell_type": "code",
   "execution_count": 2,
   "metadata": {
    "vscode": {
     "languageId": "rust"
    }
   },
   "outputs": [],
   "source": [
    "fn deli(x: i32, y: i32) -> i32 {\n",
    "    x / y\n",
    "}"
   ]
  },
  {
   "cell_type": "code",
   "execution_count": 3,
   "metadata": {
    "vscode": {
     "languageId": "rust"
    }
   },
   "outputs": [],
   "source": [
    "fn vsota_kvocientov(x: i32, y:i32) -> i32 {\n",
    "    let a = deli(x, y);\n",
    "    let b = deli(y, x);\n",
    "    a + b\n",
    "}"
   ]
  },
  {
   "cell_type": "code",
   "execution_count": 4,
   "metadata": {
    "vscode": {
     "languageId": "rust"
    }
   },
   "outputs": [
    {
     "name": "stderr",
     "output_type": "stream",
     "text": [
      "thread '<unnamed>' panicked at src/lib.rs:3:5:\n",
      "attempt to divide by zero\n",
      "stack backtrace:\n",
      "   0: _rust_begin_unwind\n",
      "   1: core::panicking::panic_fmt\n",
      "   2: core::panicking::panic\n",
      "   3: _run_user_code_3\n",
      "   4: evcxr::runtime::Runtime::run_loop\n",
      "   5: evcxr::runtime::runtime_hook\n",
      "   6: evcxr_jupyter::main\n",
      "note: Some details are omitted, run with `RUST_BACKTRACE=full` for a verbose backtrace.\n"
     ]
    }
   ],
   "source": [
    "vsota_kvocientov(3, 0)"
   ]
  },
  {
   "cell_type": "code",
   "execution_count": 10,
   "metadata": {
    "vscode": {
     "languageId": "rust"
    }
   },
   "outputs": [
    {
     "ename": "Error",
     "evalue": "this operation will panic at runtime",
     "output_type": "error",
     "traceback": [
      "\u001b[31m[unconditional_panic] Error:\u001b[0m this operation will panic at runtime"
     ]
    }
   ],
   "source": [
    "1 / 0"
   ]
  },
  {
   "cell_type": "code",
   "execution_count": null,
   "metadata": {
    "vscode": {
     "languageId": "rust"
    }
   },
   "outputs": [],
   "source": [
    "fn read_username_from_file() -> Result<String, io::Error> {\n",
    "    let mut username_file = File::open(\"hello.txt\")?;\n",
    "    let mut username = String::new();\n",
    "    username_file.read_to_string(&mut username)?;\n",
    "    Ok(username)\n",
    "}\n",
    "\n",
    "fn read_username_from_file() -> Result<String, io::Error> {\n",
    "    let mut username_file = File::open(\"hello.txt\");\n",
    "    match username_file {\n",
    "        Ok(username_file) => {\n",
    "            let mut username = String::new();\n",
    "            match username_file.read_to_string(&mut username) {\n",
    "                Ok(()) => Ok(username),\n",
    "                Err(e) => return Err(e)\n",
    "            };\n",
    "        },\n",
    "        Err(e) => return e\n",
    "    }\n",
    "}"
   ]
  }
 ],
 "metadata": {
  "kernelspec": {
   "display_name": "Rust",
   "language": "rust",
   "name": "rust"
  },
  "language_info": {
   "codemirror_mode": "rust",
   "file_extension": ".rs",
   "mimetype": "text/rust",
   "name": "Rust",
   "pygment_lexer": "rust",
   "version": ""
  }
 },
 "nbformat": 4,
 "nbformat_minor": 2
}
